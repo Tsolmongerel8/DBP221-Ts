{
 "cells": [
  {
   "cell_type": "code",
   "execution_count": 5,
   "id": "d4efe4f0",
   "metadata": {},
   "outputs": [
    {
     "ename": "NameError",
     "evalue": "name 'df8' is not defined",
     "output_type": "error",
     "traceback": [
      "\u001b[1;31m---------------------------------------------------------------------------\u001b[0m",
      "\u001b[1;31mNameError\u001b[0m                                 Traceback (most recent call last)",
      "\u001b[1;32m<ipython-input-5-72c2bb6abde0>\u001b[0m in \u001b[0;36m<module>\u001b[1;34m\u001b[0m\n\u001b[1;32m----> 1\u001b[1;33m \u001b[0minput\u001b[0m\u001b[1;33m(\u001b[0m\u001b[0mdf8\u001b[0m\u001b[1;33m.\u001b[0m\u001b[0mname\u001b[0m\u001b[1;33m.\u001b[0m\u001b[0mstr\u001b[0m\u001b[1;33m.\u001b[0m\u001b[0mlower\u001b[0m\u001b[1;33m(\u001b[0m\u001b[1;33m)\u001b[0m\u001b[1;33m)\u001b[0m\u001b[1;33m\u001b[0m\u001b[1;33m\u001b[0m\u001b[0m\n\u001b[0m",
      "\u001b[1;31mNameError\u001b[0m: name 'df8' is not defined"
     ]
    }
   ],
   "source": [
    "input(df8.name.str.lower())"
   ]
  },
  {
   "cell_type": "code",
   "execution_count": null,
   "id": "1b0aeaca",
   "metadata": {},
   "outputs": [],
   "source": [
    "len() - series deh temdegtiin urtiig toolno"
   ]
  },
  {
   "cell_type": "code",
   "execution_count": null,
   "id": "4d8c0e52",
   "metadata": {},
   "outputs": [],
   "source": [
    "lower() - series deh usgeer ugugdsun elementuudiig jijig usgeer bichigdsen bolgono"
   ]
  },
  {
   "cell_type": "code",
   "execution_count": null,
   "id": "e7ea1270",
   "metadata": {},
   "outputs": [],
   "source": [
    "translate() - talbar deerees uuriin songoson temdegtuudiig hargalzuulan uur temdegteer orluulna"
   ]
  },
  {
   "cell_type": "code",
   "execution_count": null,
   "id": "64645b79",
   "metadata": {},
   "outputs": [],
   "source": [
    "islower() - listen deh elementuudiin turliig shalgah ba True or False hariug ugnu"
   ]
  },
  {
   "cell_type": "code",
   "execution_count": null,
   "id": "f14be1c5",
   "metadata": {},
   "outputs": [],
   "source": [
    "ljust() - dataframe d songoj ugsun baganii temdegtiig urtasgaj boginosgoj bolno (ardaas n temdegt nemne)"
   ]
  },
  {
   "cell_type": "code",
   "execution_count": null,
   "id": "710ba6be",
   "metadata": {},
   "outputs": [],
   "source": [
    "upper() - usgeer ugugdsun elementiig tom usgeer bichigdsen bolgono"
   ]
  },
  {
   "cell_type": "code",
   "execution_count": null,
   "id": "4ad3970b",
   "metadata": {},
   "outputs": [],
   "source": [
    "startswith() - listen deh elementuud songoson temdegteer ehlej bui esehiig shalgana"
   ]
  },
  {
   "cell_type": "code",
   "execution_count": null,
   "id": "0c7fbc1c",
   "metadata": {},
   "outputs": [],
   "source": [
    "isupper() - listen deh buh elementuud tom usgeer ehelsen esehiig shalgana"
   ]
  },
  {
   "cell_type": "code",
   "execution_count": null,
   "id": "f7f26383",
   "metadata": {},
   "outputs": [],
   "source": [
    "rjust() - dataframe d songoj ugsun baganii temdegtiig urtasgaj boginosgoj bolno (urdaas n temdegt nemne)"
   ]
  },
  {
   "cell_type": "code",
   "execution_count": null,
   "id": "66eb2f3e",
   "metadata": {},
   "outputs": [],
   "source": [
    "find() - dataframe iin bagana burdeh songoson temdegtiig toolj index helbereer haruulna"
   ]
  },
  {
   "cell_type": "code",
   "execution_count": null,
   "id": "f93281a9",
   "metadata": {},
   "outputs": [],
   "source": [
    "endswith() - songoson temdegteer list deh elementuud tugsuj bga esehiig shalgana"
   ]
  },
  {
   "cell_type": "code",
   "execution_count": null,
   "id": "23b7bb68",
   "metadata": {},
   "outputs": [],
   "source": [
    "isnumeric() - series deh elementuud toon ugugdul boloh esehiig shalgana"
   ]
  },
  {
   "cell_type": "code",
   "execution_count": null,
   "id": "23d0aa9f",
   "metadata": {},
   "outputs": [],
   "source": [
    "center() - series deh elementuudiig golluulan bairluulna"
   ]
  },
  {
   "cell_type": "code",
   "execution_count": null,
   "id": "10b1274b",
   "metadata": {},
   "outputs": [],
   "source": [
    "rfind() - series iin baruun taalaas songoson temdegtiig toolon index bagana helbereer haruulna"
   ]
  },
  {
   "cell_type": "code",
   "execution_count": null,
   "id": "196baf67",
   "metadata": {},
   "outputs": [],
   "source": [
    "get() - series ees uuriin ontsolson elementiig tusad n avj haruulna"
   ]
  },
  {
   "cell_type": "code",
   "execution_count": null,
   "id": "8f2b6fb3",
   "metadata": {},
   "outputs": [],
   "source": [
    "isalnum() - series deh elementuud useg bolon too holildson esehiig shalgana"
   ]
  },
  {
   "cell_type": "code",
   "execution_count": null,
   "id": "df85e1c8",
   "metadata": {},
   "outputs": [],
   "source": [
    "isdecimal() - series deh elementuud 10t boloh esehiig shalgana"
   ]
  },
  {
   "cell_type": "code",
   "execution_count": null,
   "id": "71929b3f",
   "metadata": {},
   "outputs": [],
   "source": [
    "zfill() - songoson temdegtiin urtad taaruulan 0 iin toog nemj urtasgah ba songoson urtaas iluu element baigaa tohioldold heveer uldeene"
   ]
  },
  {
   "cell_type": "code",
   "execution_count": null,
   "id": "2c1ddef1",
   "metadata": {},
   "outputs": [],
   "source": [
    "index() - series iin moruudiig garaas ugugdsun baidlaar nerlej ugnu"
   ]
  },
  {
   "cell_type": "code",
   "execution_count": null,
   "id": "6a3dcdfe",
   "metadata": {},
   "outputs": [],
   "source": [
    "isalpha() - series deh elementuud n usegt boloh esehiig shalgana"
   ]
  },
  {
   "cell_type": "code",
   "execution_count": null,
   "id": "350fef44",
   "metadata": {},
   "outputs": [],
   "source": [
    "split() - songoj ugsun temdegtiig series aguulj baival ter hesgeer taslaj ugnu"
   ]
  },
  {
   "cell_type": "code",
   "execution_count": null,
   "id": "39b2f948",
   "metadata": {},
   "outputs": [],
   "source": [
    "strip() - series iin elementuudiin zaig hasah ardah iluuts elementuudiig hasna"
   ]
  },
  {
   "cell_type": "code",
   "execution_count": null,
   "id": "51869f49",
   "metadata": {},
   "outputs": [],
   "source": [
    "rindex() - songoson temdegtiig series ees haij oloh ba hamgiin ih davtagdsan bolon orhigdson dung 2 index iin baganad haruulna"
   ]
  },
  {
   "cell_type": "code",
   "execution_count": null,
   "id": "7b6c6680",
   "metadata": {},
   "outputs": [],
   "source": [
    "isdigit() - series deh elementuud n orontoi(rational) too esehiig shalgana"
   ]
  },
  {
   "cell_type": "code",
   "execution_count": null,
   "id": "1b5953fd",
   "metadata": {},
   "outputs": [],
   "source": [
    "rsplit() - garaas heden bagana ugsun terend taaruulan ugugdliig taslana"
   ]
  },
  {
   "cell_type": "code",
   "execution_count": null,
   "id": "fb866ac2",
   "metadata": {},
   "outputs": [],
   "source": [
    "rstrip() - series iin elementuudiin urd baih sul temdegtuudiig arilgana"
   ]
  },
  {
   "cell_type": "code",
   "execution_count": null,
   "id": "d23a6a0c",
   "metadata": {},
   "outputs": [],
   "source": [
    "capitalize() - series iin elementuudiig tomoor ehluulj uurchilnu"
   ]
  },
  {
   "cell_type": "code",
   "execution_count": null,
   "id": "ddd938a4",
   "metadata": {},
   "outputs": [],
   "source": [
    "isspace() - series deh elementuud n dotroo hooson zaitai esehiig shalgana"
   ]
  },
  {
   "cell_type": "code",
   "execution_count": null,
   "id": "0d4bbde7",
   "metadata": {},
   "outputs": [],
   "source": [
    "partition() - series iin element dotorh ugugdluudiig 1 ba 3 gesen haritsaataigaar taslan dataframe uusgene"
   ]
  },
  {
   "cell_type": "code",
   "execution_count": null,
   "id": "1a8da2a6",
   "metadata": {},
   "outputs": [],
   "source": [
    "lstrip() - series iin elementiin umnuh temdegtiig ustgana"
   ]
  },
  {
   "cell_type": "code",
   "execution_count": null,
   "id": "315ce985",
   "metadata": {},
   "outputs": [],
   "source": [
    "swapcase() - series deh usgen elementuudiig jijig bol tom ruu, tom bol jijig ruu solij bichne"
   ]
  },
  {
   "cell_type": "code",
   "execution_count": null,
   "id": "98bfb844",
   "metadata": {},
   "outputs": [],
   "source": [
    "istitle() - series deh elementuud n onooson ner helbertei bichigdsen esehiig shalgana"
   ]
  },
  {
   "cell_type": "code",
   "execution_count": null,
   "id": "23317026",
   "metadata": {},
   "outputs": [],
   "source": [
    "rpartition() - series iin element dotorh ugugdluudiig 3 ba 1 gesen haritsaataigaar taslan dataframe uusgene"
   ]
  }
 ],
 "metadata": {
  "kernelspec": {
   "display_name": "Python 3",
   "language": "python",
   "name": "python3"
  },
  "language_info": {
   "codemirror_mode": {
    "name": "ipython",
    "version": 3
   },
   "file_extension": ".py",
   "mimetype": "text/x-python",
   "name": "python",
   "nbconvert_exporter": "python",
   "pygments_lexer": "ipython3",
   "version": "3.8.8"
  }
 },
 "nbformat": 4,
 "nbformat_minor": 5
}
