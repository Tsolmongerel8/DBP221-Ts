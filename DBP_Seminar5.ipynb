{
 "cells": [
  {
   "cell_type": "code",
   "execution_count": 3,
   "id": "df04b91c",
   "metadata": {},
   "outputs": [
    {
     "name": "stdout",
     "output_type": "stream",
     "text": [
      "2\n",
      "*\n",
      "**\n"
     ]
    }
   ],
   "source": [
    "def symbbol(n):\n",
    "    n=int(input())\n",
    "    a=1\n",
    "    while a<n+1:\n",
    "        print('*'*a)\n",
    "        a+=1\n",
    "symbbol(8)"
   ]
  },
  {
   "cell_type": "code",
   "execution_count": 2,
   "id": "74230e9a",
   "metadata": {},
   "outputs": [
    {
     "name": "stdout",
     "output_type": "stream",
     "text": [
      "4\n",
      "['*']\n",
      "['**']\n",
      "['***']\n",
      "['****']\n"
     ]
    }
   ],
   "source": [
    "def listed(n):\n",
    "    n=int(input())\n",
    "    a=1\n",
    "    while a<n+1:\n",
    "        print(['*'*a])\n",
    "        a+=1\n",
    "listed(7)"
   ]
  },
  {
   "cell_type": "code",
   "execution_count": 5,
   "id": "d9bc5a31",
   "metadata": {},
   "outputs": [
    {
     "data": {
      "text/plain": [
       "('Oyun', 'Bat')"
      ]
     },
     "execution_count": 5,
     "metadata": {},
     "output_type": "execute_result"
    }
   ],
   "source": [
    "def maxmin(students):\n",
    "    a= max(students, key=students.get)\n",
    "    b= min(students, key=students.get)\n",
    "    return a,b\n",
    "students = {'Bat': 18,'Oyun': 22,'Dulam': 21,'Suren':20}\n",
    "maxmin(students)"
   ]
  },
  {
   "cell_type": "code",
   "execution_count": 7,
   "id": "256adf0a",
   "metadata": {},
   "outputs": [
    {
     "name": "stdout",
     "output_type": "stream",
     "text": [
      "214216\n"
     ]
    }
   ],
   "source": [
    "import numpy as np\n",
    "\n",
    "a=np.arange(1,1000)\n",
    "b=0\n",
    "for i in a:\n",
    "\n",
    "    if i%3==0 or i%7==0:\n",
    "        b=b+i\n",
    "print(b)"
   ]
  }
 ],
 "metadata": {
  "kernelspec": {
   "display_name": "Python 3",
   "language": "python",
   "name": "python3"
  },
  "language_info": {
   "codemirror_mode": {
    "name": "ipython",
    "version": 3
   },
   "file_extension": ".py",
   "mimetype": "text/x-python",
   "name": "python",
   "nbconvert_exporter": "python",
   "pygments_lexer": "ipython3",
   "version": "3.8.8"
  }
 },
 "nbformat": 4,
 "nbformat_minor": 5
}
