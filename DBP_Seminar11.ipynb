{
  "metadata": {
    "language_info": {
      "codemirror_mode": {
        "name": "python",
        "version": 3
      },
      "file_extension": ".py",
      "mimetype": "text/x-python",
      "name": "python",
      "nbconvert_exporter": "python",
      "pygments_lexer": "ipython3",
      "version": "3.8"
    },
    "kernelspec": {
      "name": "python",
      "display_name": "Python (Pyodide)",
      "language": "python"
    }
  },
  "nbformat_minor": 4,
  "nbformat": 4,
  "cells": [
    {
      "cell_type": "code",
      "source": "from datetime import datetime\ncurrentDateAndTime = datetime.now()\n\nprint(\"The current date and time is\", currentDateAndTime)",
      "metadata": {
        "trusted": true
      },
      "execution_count": 3,
      "outputs": [
        {
          "name": "stdout",
          "text": "The current date and time is 2022-11-17 18:02:35.273000\n",
          "output_type": "stream"
        }
      ]
    },
    {
      "cell_type": "code",
      "source": "import datetime\n\ntoday = datetime.date.today()\n\nprint(today)",
      "metadata": {
        "trusted": true
      },
      "execution_count": 4,
      "outputs": [
        {
          "name": "stdout",
          "text": "2022-11-17\n",
          "output_type": "stream"
        }
      ]
    },
    {
      "cell_type": "code",
      "source": "from datetime import timedelta\ndelta = timedelta(\n    days=50,\n    seconds=27,\n    microseconds=10,\n    milliseconds=29000,\n    minutes=5,\n    hours=8,\n    weeks=2)\ndelta",
      "metadata": {
        "trusted": true
      },
      "execution_count": 7,
      "outputs": [
        {
          "execution_count": 7,
          "output_type": "execute_result",
          "data": {
            "text/plain": "datetime.timedelta(days=64, seconds=29156, microseconds=10)"
          },
          "metadata": {}
        }
      ]
    },
    {
      "cell_type": "code",
      "source": "import datetime\ntoday = datetime.date.today()\nsomeday = datetime.date(2022, 1, 1)\ndiff = today - someday\ndiff.days\n\n\n",
      "metadata": {
        "trusted": true
      },
      "execution_count": 12,
      "outputs": [
        {
          "execution_count": 12,
          "output_type": "execute_result",
          "data": {
            "text/plain": "320"
          },
          "metadata": {}
        }
      ]
    },
    {
      "cell_type": "code",
      "source": "import datetime\ntoday = datetime.date.today()\nsomeday = datetime.date(2022, 11, 1)\ndiff = today - someday\ndiff.days\n",
      "metadata": {
        "trusted": true
      },
      "execution_count": 13,
      "outputs": [
        {
          "execution_count": 13,
          "output_type": "execute_result",
          "data": {
            "text/plain": "16"
          },
          "metadata": {}
        }
      ]
    },
    {
      "cell_type": "code",
      "source": "from datetime import date\nimport calendar\nmy_date = date.today()\ncalendar.day_name[my_date.weekday()]",
      "metadata": {
        "trusted": true
      },
      "execution_count": 18,
      "outputs": [
        {
          "execution_count": 18,
          "output_type": "execute_result",
          "data": {
            "text/plain": "'Thursday'"
          },
          "metadata": {}
        }
      ]
    },
    {
      "cell_type": "code",
      "source": "from datetime import datetime\ncurrentDateAndTime = datetime.now()\n\nprint(\"The current date and time is\", currentDateAndTime)",
      "metadata": {
        "trusted": true
      },
      "execution_count": 19,
      "outputs": [
        {
          "name": "stdout",
          "text": "The current date and time is 2022-11-17 18:25:33.980000\n",
          "output_type": "stream"
        }
      ]
    },
    {
      "cell_type": "code",
      "source": "from datetime import datetime, timedelta\n    \nd = datetime.today() - timedelta(days=6)\n",
      "metadata": {
        "trusted": true
      },
      "execution_count": 30,
      "outputs": []
    }
  ]
}