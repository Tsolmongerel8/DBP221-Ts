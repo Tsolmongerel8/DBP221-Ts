{
 "cells": [
  {
   "cell_type": "code",
   "execution_count": 71,
   "id": "a08e7415",
   "metadata": {},
   "outputs": [
    {
     "name": "stdout",
     "output_type": "stream",
     "text": [
      "[50 51 52 53 54 55 56 57 58 59 60 61 62 63 64 65 66 67 68 69 70 71 72 73\n",
      " 74 75 76 77 78 79 80 81 82 83 84 85 86 87 88 89 90 91 92 93 94 95 96 97\n",
      " 98 99]\n"
     ]
    }
   ],
   "source": [
    "import numpy as np\n",
    "x = np.arange(50,100)\n",
    "print(x)\n"
   ]
  },
  {
   "cell_type": "code",
   "execution_count": 34,
   "id": "64528b51",
   "metadata": {},
   "outputs": [
    {
     "name": "stdout",
     "output_type": "stream",
     "text": [
      "[1 1 1 1 1 1 1 1 1 1 0 0 0 0 0 0 0 0 0 0 6 6 6 6 6 6 6 6 6 6]\n"
     ]
    }
   ],
   "source": [
    "x = np.array([1,0,6])\n",
    "y = np.repeat(x,10)\n",
    "print(y)"
   ]
  },
  {
   "cell_type": "code",
   "execution_count": 37,
   "id": "a302d92e",
   "metadata": {},
   "outputs": [
    {
     "name": "stdout",
     "output_type": "stream",
     "text": [
      "[[20 21 22 23]\n",
      " [24 25 26 27]\n",
      " [28 29 30 31]]\n"
     ]
    }
   ],
   "source": [
    "x = np.arange(20,32)\n",
    "y = x.reshape(3,4)\n",
    "print(y)"
   ]
  },
  {
   "cell_type": "code",
   "execution_count": 36,
   "id": "ab31d40e",
   "metadata": {},
   "outputs": [
    {
     "name": "stdout",
     "output_type": "stream",
     "text": [
      "[[1. 0. 0.]\n",
      " [0. 1. 0.]\n",
      " [0. 0. 1.]]\n"
     ]
    }
   ],
   "source": [
    "x = np.identity(3)\n",
    "print(x)"
   ]
  },
  {
   "cell_type": "code",
   "execution_count": 77,
   "id": "094203c0",
   "metadata": {},
   "outputs": [
    {
     "name": "stdout",
     "output_type": "stream",
     "text": [
      "[[1. 0. 0. 0. 0.]\n",
      " [0. 2. 0. 0. 0.]\n",
      " [0. 0. 3. 0. 0.]\n",
      " [0. 0. 0. 4. 0.]\n",
      " [0. 0. 0. 0. 5.]]\n"
     ]
    }
   ],
   "source": [
    "x = np.zeros((5,5))\n",
    "i = 0\n",
    "for i in range(5):\n",
    "    x[i,i] = x[i,i] + (i+1)\n",
    "print(x)"
   ]
  },
  {
   "cell_type": "code",
   "execution_count": 70,
   "id": "2075a923",
   "metadata": {},
   "outputs": [
    {
     "name": "stdout",
     "output_type": "stream",
     "text": [
      "30\n",
      "[ 2  4  6  8 10]\n",
      "[15 15]\n"
     ]
    }
   ],
   "source": [
    "x = np.array([[1,2,3,4,5],[1,2,3,4,5]])\n",
    "Sum = np.sum(x)\n",
    "Sumrow = np.sum(x,axis=0)\n",
    "Sumcol = np.sum(x,axis=1)\n",
    "print(Sum)\n",
    "print(Sumrow)\n",
    "print(Sumcol)"
   ]
  },
  {
   "cell_type": "code",
   "execution_count": 82,
   "id": "54b9edac",
   "metadata": {},
   "outputs": [
    {
     "name": "stdout",
     "output_type": "stream",
     "text": [
      "[359662354 325404904 298878452 279009947 246390485 197677249 171918025\n",
      " 147651399 111447490  96215938]\n",
      "[150736481 226099789  69572651 221859601 254285153 289255977 216582148\n",
      " 190452522 324697652 290714269]\n",
      "[510 540 589 536 703 584 670 688 541 586]\n",
      "[585 552 321 701 582 692 551 708 648 607]\n",
      "[4701 4877 5442 4641 6205 5027 5567 5201 3879 3989]\n",
      "[4517 4896 3004 5187 4574 5809 3799 5762 6516 5465]\n"
     ]
    }
   ],
   "source": [
    "#Salary\n",
    "NikolaJokic_Salary = [33047803,31044906,29542010,27504630,25467250,1471382,1358500,1300000,0,0]\n",
    "KyrieIrving_Salary = [38917057,35328700,33722850,31742000,20099189,18868626,17638063,16407500,7459924,5915880]\n",
    "LukaDoncic_Salary = [37096500,10174391,8049360,7683360,6569040,0,0,0,0,0]\n",
    "KlayThompson_Salary = [40600080,37980720,35361360,32742000,18988725,17826150,16538535,15501000,3075880,3245151]\n",
    "PaulGeorge_Salary = [42492492,39394490,35450412,33005056,30560700,19300000,18100000,16900000,15800000,3282003]\n",
    "JamesHarden_Salary = [33000000,44310840,44254920,38199000,30570000,28299399,26540100,15719062,14693906,13668750]\n",
    "JimmyButler_Salary = [37653300,36016200,34379100,32742000,19841627,18696918,17552209,16407500,2119214,1174080]\n",
    "GiannisAntetokounmpo_Salary = [42492492,39344900,27528088,25842697,24157304,22471911,2995410,1953960,1873200,1792560]\n",
    "LebronJames_Salary = [44474988,41180544,39219566,37436845,35454150,33285709,30963450,22970500,20644400,19067500]\n",
    "StephenCurry_Salary = [9887642,10629213,11370786,12112359,34682500,37457154,40231758,40491877,45780966,48070014]\n",
    "Salary = np.array([NikolaJokic_Salary,KyrieIrving_Salary,LukaDoncic_Salary,KlayThompson_Salary,PaulGeorge_Salary,JamesHarden_Salary,JimmyButler_Salary,GiannisAntetokounmpo_Salary,LebronJames_Salary,StephenCurry_Salary])\n",
    "#GamesPlayed\n",
    "NikolaJokic_GP = [58,74,72,73,80,75,73,80,0,0]\n",
    "KyrieIrving_GP = [51,29,54,20,67,60,72,53,75,71]\n",
    "LukaDoncic_GP = [57,65,66,61,72,0,0,0,0,0]\n",
    "KlayThompson_GP = [54,32,78,73,78,80,77,81,82,66]\n",
    "PaulGeorge_GP = [51,31,54,48,77,79,75,81,6,80]\n",
    "JamesHarden_GP = [48,65,44,68,78,72,81,82,81,73]\n",
    "JimmyButler_GP = [52,57,52,58,55,10,59,76,67,65]\n",
    "GiannisAntetokounmpo_GP = [52,67,61,63,72,75,80,80,81,77]\n",
    "LebronJames_GP = [47,56,45,67,55,82,74,76,69,77]\n",
    "StephenCurry_GP = [40,64,63,5,69,51,79,79,80,77]\n",
    "GamesPlayed = np.array([NikolaJokic_GP,KyrieIrving_GP,LukaDoncic_GP,KlayThompson_GP,PaulGeorge_GP,JamesHarden_GP,JimmyButler_GP,GiannisAntetokounmpo_GP,LebronJames_GP,StephenCurry_GP])\n",
    "#FieldGoals\n",
    "NikolaJokic_FG = [535,764,732,565,616,504,494,307,0,0]\n",
    "KyrieIrving_FG = [506,289,549,199,634,544,671,394,578,532]\n",
    "LukaDoncic_FG = [629,641,647,581,506,0,0,0,0,0]\n",
    "KlayThompson_FG = [429,246,655,575,644,651,602,559,508,318]\n",
    "PaulGeorge_FG = [412,268,445,343,707,576,622,606,18,577]\n",
    "JamesHarden_FG = [316,407,342,672,843,651,674,710,645,549]\n",
    "JimmyButler_FG = [374,398,366,345,344,74,437,570,470,421]\n",
    "GiannisAntetokounmpo_FG = [574,689,626,685,721,742,656,513,383,173]\n",
    "LebronJames_FG = [532,640,422,643,558,857,736,737,624,767]\n",
    "StephenCurry_FG = [394,535,658,33,632,428,675,805,653,652]\n",
    "FieldGoals = np.array([NikolaJokic_FG,KyrieIrving_FG,LukaDoncic_FG,KlayThompson_FG,PaulGeorge_FG,JamesHarden_FG,JimmyButler_FG,GiannisAntetokounmpo_FG,LebronJames_FG,StephenCurry_FG])\n",
    "\n",
    "SalaryRow = np.sum(Salary,axis=0)\n",
    "SalaryCol = np.sum(Salary,axis=1)\n",
    "GPRow = np.sum(GamesPlayed,axis=0)\n",
    "GPCol = np.sum(GamesPlayed,axis=1)\n",
    "FGRow = np.sum(FieldGoals,axis=0)\n",
    "FGCol = np.sum(FieldGoals,axis=1)\n",
    "print(SalaryRow)\n",
    "print(SalaryCol)\n",
    "print(GPRow)\n",
    "print(GPCol)\n",
    "print(FGRow)\n",
    "print(FGCol)\n",
    "\n"
   ]
  },
  {
   "cell_type": "code",
   "execution_count": null,
   "id": "09b86319",
   "metadata": {},
   "outputs": [],
   "source": []
  }
 ],
 "metadata": {
  "kernelspec": {
   "display_name": "Python 3 (ipykernel)",
   "language": "python",
   "name": "python3"
  },
  "language_info": {
   "codemirror_mode": {
    "name": "ipython",
    "version": 3
   },
   "file_extension": ".py",
   "mimetype": "text/x-python",
   "name": "python",
   "nbconvert_exporter": "python",
   "pygments_lexer": "ipython3",
   "version": "3.11.2"
  }
 },
 "nbformat": 4,
 "nbformat_minor": 5
}
